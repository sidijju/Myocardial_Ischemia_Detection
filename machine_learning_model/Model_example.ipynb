{
  "nbformat": 4,
  "nbformat_minor": 0,
  "metadata": {
    "colab": {
      "name": "Model_example.ipynb",
      "version": "0.3.2",
      "provenance": [],
      "collapsed_sections": [],
      "include_colab_link": true
    },
    "kernelspec": {
      "name": "python3",
      "display_name": "Python 3"
    }
  },
  "cells": [
    {
      "cell_type": "markdown",
      "metadata": {
        "id": "view-in-github",
        "colab_type": "text"
      },
      "source": [
        "[View in Colaboratory](https://colab.research.google.com/github/vishnurmurthy/Myocardial_Ischemia_Detection/blob/master/machine_learning_model/Model_example.ipynb)"
      ]
    },
    {
      "metadata": {
        "id": "o9eZ8vda7K09",
        "colab_type": "code",
        "colab": {
          "base_uri": "https://localhost:8080/",
          "height": 85
        },
        "outputId": "0d27a8b1-b0f9-4b07-fdde-31681a66fdde"
      },
      "cell_type": "code",
      "source": [
        "from google.colab import files\n",
        "import matplotlib.pyplot as plt\n",
        "import numpy as np\n",
        "import math\n",
        "import os\n",
        "import pandas as pd\n",
        "import random\n",
        "import tensorflow\n",
        "import keras\n",
        "from sklearn import metrics\n",
        "!pip install peakutils\n",
        "import peakutils\n",
        "from sklearn.utils import shuffle\n",
        "import tensorflow as tf\n",
        "from scipy.interpolate import *\n",
        "from scipy.signal import *"
      ],
      "execution_count": 1,
      "outputs": [
        {
          "output_type": "stream",
          "text": [
            "Using TensorFlow backend.\n"
          ],
          "name": "stderr"
        },
        {
          "output_type": "stream",
          "text": [
            "Requirement already satisfied: peakutils in /usr/local/lib/python3.6/dist-packages (1.1.1)\r\n",
            "Requirement already satisfied: scipy in /usr/local/lib/python3.6/dist-packages (from peakutils) (0.19.1)\r\n",
            "Requirement already satisfied: numpy in /usr/local/lib/python3.6/dist-packages (from peakutils) (1.14.5)\r\n"
          ],
          "name": "stdout"
        }
      ]
    },
    {
      "metadata": {
        "id": "jlL_MrGcG9lb",
        "colab_type": "code",
        "colab": {
          "base_uri": "https://localhost:8080/",
          "height": 34
        },
        "outputId": "b6a86750-a0c8-4b77-ff82-07e2ba86429a"
      },
      "cell_type": "code",
      "source": [
        "! git clone https://github.com/vishnurmurthy/Myocardial_Ischemia_Detection"
      ],
      "execution_count": 2,
      "outputs": [
        {
          "output_type": "stream",
          "text": [
            "fatal: destination path 'Myocardial_Ischemia_Detection' already exists and is not an empty directory.\r\n"
          ],
          "name": "stdout"
        }
      ]
    },
    {
      "metadata": {
        "id": "YX1IulICI6zw",
        "colab_type": "code",
        "colab": {
          "base_uri": "https://localhost:8080/",
          "height": 49
        },
        "outputId": "a93d54ed-1062-4724-9296-b3a2f6c5e90f"
      },
      "cell_type": "code",
      "source": [
        "large_data = pd.DataFrame({\"Signal\":[], \"Label\":[]})\n",
        "large_data"
      ],
      "execution_count": 3,
      "outputs": [
        {
          "output_type": "execute_result",
          "data": {
            "text/html": [
              "<div>\n",
              "<style scoped>\n",
              "    .dataframe tbody tr th:only-of-type {\n",
              "        vertical-align: middle;\n",
              "    }\n",
              "\n",
              "    .dataframe tbody tr th {\n",
              "        vertical-align: top;\n",
              "    }\n",
              "\n",
              "    .dataframe thead th {\n",
              "        text-align: right;\n",
              "    }\n",
              "</style>\n",
              "<table border=\"1\" class=\"dataframe\">\n",
              "  <thead>\n",
              "    <tr style=\"text-align: right;\">\n",
              "      <th></th>\n",
              "      <th>Label</th>\n",
              "      <th>Signal</th>\n",
              "    </tr>\n",
              "  </thead>\n",
              "  <tbody>\n",
              "  </tbody>\n",
              "</table>\n",
              "</div>"
            ],
            "text/plain": [
              "Empty DataFrame\n",
              "Columns: [Label, Signal]\n",
              "Index: []"
            ]
          },
          "metadata": {
            "tags": []
          },
          "execution_count": 3
        }
      ]
    },
    {
      "metadata": {
        "id": "261Y8qgBHc5l",
        "colab_type": "code",
        "colab": {
          "base_uri": "https://localhost:8080/",
          "height": 1105
        },
        "outputId": "ddc1da88-36fb-4728-d894-0f26f3945d9f"
      },
      "cell_type": "code",
      "source": [
        "datafiles = ['s20011.xz','s20131.xz','s20251.xz','s20341.xz','s20471.xz','s20591.xz','s30721.xz','s20021.xz','s20141.xz',\n",
        "'s20351.xz','s20481.xz','s20601.xz','s30731.xz','s20031.xz','s20151.xz','s20271.xz','s20361.xz','s20491.xz','s20621.xz',\n",
        "'s20272.xz','s20371.xz','s20501.xz','s20431.xz','s20551.xz','s20181.xz','s30661.xz','s20301.xz','s20231.xz','s20321.xz',\n",
        "'s20631.xz','s30741.xz','s20051.xz','s20171.xz','s20273.xz','s20381.xz','s20511.xz','s20641.xz','s30742.xz','s20061.xz',\n",
        "'s20274.xz','s20391.xz','s20521.xz','s20651.xz','s30751.xz','s20071.xz','s20191.xz','s20281.xz','s20401.xz','s20531.xz',\n",
        "'s30752.xz','s20081.xz','s20201.xz','s20291.xz','s20411.xz','s20541.xz','s30671.xz','s30761.xz','s20091.xz','s20211.xz',\n",
        "'s30681.xz','s30771.xz','s20101.xz','s20221.xz','s20311.xz','s20441.xz','s20561.xz','s30691.xz','s30781.xz','s20111.xz',\n",
        "'s20451.xz','s20571.xz','s30701.xz','s30791.xz','s20121.xz','s20241.xz','s20331.xz','s20461.xz','s20581.xz','s30711.xz', \n",
        "'s30732.xz','s20041.xz','s20161.xz','s30801.xz', 's20261.xz',]\n",
        "os.chdir('Myocardial_Ischemia_Detection/processed_data/')\n",
        "for i in datafiles:\n",
        "  dat = pd.read_pickle(i)\n",
        "  large_data = large_data.append(dat)\n",
        "os.chdir('../..')\n",
        "print(large_data)"
      ],
      "execution_count": 7,
      "outputs": [
        {
          "output_type": "stream",
          "text": [
            "        Label                                             Signal\n",
            "0        rtst  [-0.23499999999999996, 0.6729999999999999, 2.1...\n",
            "1        rtst  [0.305, 0.021000000000000005, -0.197, -0.28500...\n",
            "2        rtst  [-0.183, -0.2, -0.197, 0.04300000000000002, 1....\n",
            "3        rtst  [-0.291, -0.33199999999999996, -0.339999999999...\n",
            "4        rtst  [-0.037, -0.028999999999999998, -0.13, -0.2280...\n",
            "5        rtst  [-0.05, 1.275, 1.8809999999999998, 0.088999999...\n",
            "6        rtst  [-0.335, -0.31599999999999995, -0.302, -0.2879...\n",
            "7        rtst  [-0.198, -0.10800000000000001, -0.052000000000...\n",
            "8        rtst  [-0.151, -0.17099999999999999, -0.216000000000...\n",
            "9        rtst  [-0.135, -0.258, -0.3, -0.306, -0.311, -0.275,...\n",
            "10       rtst  [-0.20600000000000002, -0.207, -0.205, -0.198,...\n",
            "11       rtst  [0.242, -0.017, -0.183, -0.24299999999999997, ...\n",
            "12       rtst  [-0.045, -0.119, -0.2, -0.285, -0.268000000000...\n",
            "13       rtst  [-0.182, 1.013, 2.053, 0.20399999999999996, -0...\n",
            "14       rtst  [-0.17200000000000001, 0.828, 2.129, 0.3940000...\n",
            "15       rtst  [-0.367, -0.355, -0.329, -0.27, -0.205, -0.098...\n",
            "16       rtst  [-0.24700000000000003, -0.292, -0.303, -0.3019...\n",
            "17       rtst  [-0.21200000000000002, -0.21400000000000002, -...\n",
            "18       rtst  [-0.299, -0.313, -0.305, -0.298, -0.292, -0.28...\n",
            "19       rtst  [-0.10399999999999998, -0.05500000000000001, 0...\n",
            "20       rtst  [1.3989999999999998, 1.746, -0.086, -0.244, -0...\n",
            "21       rtst  [-0.1, 0.023000000000000003, 0.196, 0.339, 0.3...\n",
            "22       rtst  [-0.24500000000000002, -0.22999999999999998, -...\n",
            "23       rtst  [-0.219, -0.225, -0.22600000000000003, -0.221,...\n",
            "24       rtst  [-0.126, -0.21600000000000003, -0.248, -0.2279...\n",
            "25       rtst  [-0.01, 0.09, 0.242, 0.421, 0.55, 0.5289999999...\n",
            "26       rtst  [-0.254, -0.24500000000000002, -0.238999999999...\n",
            "27       rtst  [-0.21800000000000003, -0.21000000000000002, -...\n",
            "28       rtst  [-0.14300000000000002, -0.14900000000000002, 0...\n",
            "29       rtst  [-0.187, -0.275, -0.29100000000000004, -0.263,...\n",
            "...       ...                                                ...\n",
            "12374  normal  [-0.25, -0.269, -0.21400000000000002, -0.11299...\n",
            "12375  normal  [-0.10499999999999998, 0.151, 1.85799999999999...\n",
            "12376  normal  [-0.008, -0.004, -0.007000000000000001, -0.032...\n",
            "12377  normal  [1.64, 1.0939999999999999, -0.078, -0.10800000...\n",
            "12378  normal  [-0.07799999999999999, 0.066, 0.082, 0.066, 0....\n",
            "12379  normal  [-0.154, -0.168, -0.156, -0.20399999999999996,...\n",
            "12380  normal  [-0.10800000000000001, -0.11000000000000001, -...\n",
            "12381  normal  [-0.244, -0.27399999999999997, -0.311000000000...\n",
            "12382  normal  [-0.126, -0.10800000000000001, -0.041, -0.1070...\n",
            "12383  normal  [-0.025, -0.06, -0.11200000000000002, -0.10500...\n",
            "12384  normal  [-0.26, -0.297, -0.27399999999999997, -0.10700...\n",
            "12385  normal  [-0.016, 0.011, 0.023, 0.003999999999999999, -...\n",
            "12386  normal  [-0.002, -0.048, -0.101, -0.118, -0.1039999999...\n",
            "12387  normal  [0.992, -0.073, -0.13, -0.139, -0.156, -0.174,...\n",
            "12388  normal  [-0.205, -0.06300000000000001, 0.0090000000000...\n",
            "12389  normal  [0.04, 0.0009999999999999998, -0.031, -0.05699...\n",
            "12390  normal  [-0.054000000000000006, -0.073, -0.05499999999...\n",
            "12391  normal  [0.048, 0.013000000000000001, -0.03, -0.036000...\n",
            "12392  normal  [0.06000000000000001, 0.044, 0.043, 0.011, -0....\n",
            "12393  normal  [-0.033999999999999996, -0.06100000000000001, ...\n",
            "12394  normal  [-0.015000000000000003, -0.03900000000000001, ...\n",
            "12395  normal  [-0.20399999999999996, -0.087, 0.017, 0.05, 0....\n",
            "12396  normal  [0.28, 0.225, 0.23700000000000002, 0.219, 0.21...\n",
            "12397  normal  [-0.187, -0.25200000000000006, 0.278, 1.807, 0...\n",
            "12398  normal  [-0.08900000000000001, -0.023, 0.0260000000000...\n",
            "12399  normal  [0.10999999999999999, 0.10799999999999998, 0.0...\n",
            "12400  normal  [-0.215, -0.261, -0.315, -0.374, -0.382, -0.29...\n",
            "12401  normal  [0.015, -0.023, -0.05500000000000001, -0.07200...\n",
            "12402  normal  [-0.14200000000000002, -0.133, -0.142000000000...\n",
            "12403  normal  [-0.23600000000000004, -0.313, -0.349000000000...\n",
            "\n",
            "[1354460 rows x 2 columns]\n"
          ],
          "name": "stdout"
        }
      ]
    },
    {
      "metadata": {
        "id": "-Wf5B6cIMxJd",
        "colab_type": "code",
        "colab": {
          "base_uri": "https://localhost:8080/",
          "height": 238
        },
        "outputId": "ce6e5d17-92a6-4069-9e33-ac10a97c97b4"
      },
      "cell_type": "code",
      "source": [
        "print(\"# of data rows for Normal: \", len(large_data.loc[large_data['Label'] == 'normal']))\n",
        "print(\"# of data rows for RTST: \", len(large_data.loc[large_data['Label'] == 'rtst']))\n",
        "print(\"# of data rows for SCCST: \", len(large_data.loc[large_data['Label'] == 'sccst']))\n",
        "print(\"# of data rows for SST: \", len(large_data.loc[large_data['Label'] == 'sst']))\n",
        "print(\"# of data rows for ST: \", len(large_data.loc[large_data['Label'] == 'st']))\n",
        "\n",
        "print('\\n')\n",
        "large_data = large_data[large_data.Label != 'scct'] #dropping rows with shifts, we are not classifying\n",
        "large_data = large_data[large_data.Label != 'sst']\n",
        "\n",
        "print(\"# of data rows for Normal: \", len(large_data.loc[large_data['Label'] == 'normal']))\n",
        "print(\"# of data rows for RTST: \", len(large_data.loc[large_data['Label'] == 'rtst']))\n",
        "print(\"# of data rows for SCCST: \", len(large_data.loc[large_data['Label'] == 'sccst']))\n",
        "print(\"# of data rows for SST: \", len(large_data.loc[large_data['Label'] == 'sst']))\n",
        "print(\"# of data rows for ST: \", len(large_data.loc[large_data['Label'] == 'st']))\n",
        "\n",
        "newx = 0\n",
        "for i in large_data['Signal']:\n",
        "\tif len(i)!=250:\n",
        "\t\tprint(len(i))\n",
        "\t\tnewx+=1\n",
        "print(\"nx\", newx)"
      ],
      "execution_count": 10,
      "outputs": [
        {
          "output_type": "stream",
          "text": [
            "# of data rows for Normal:  581970\n",
            "# of data rows for RTST:  173256\n",
            "# of data rows for SCCST:  1010\n",
            "# of data rows for SST:  0\n",
            "# of data rows for ST:  596574\n",
            "\n",
            "\n",
            "# of data rows for Normal:  581970\n",
            "# of data rows for RTST:  173256\n",
            "# of data rows for SCCST:  1010\n",
            "# of data rows for SST:  0\n",
            "# of data rows for ST:  596574\n",
            "nx 0\n"
          ],
          "name": "stdout"
        }
      ]
    },
    {
      "metadata": {
        "id": "892CLOVFOx4h",
        "colab_type": "code",
        "colab": {}
      },
      "cell_type": "code",
      "source": [
        ""
      ],
      "execution_count": 0,
      "outputs": []
    }
  ]
}
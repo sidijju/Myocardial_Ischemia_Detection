{
  "nbformat": 4,
  "nbformat_minor": 0,
  "metadata": {
    "colab": {
      "name": "Model_example_v2.ipynb",
      "version": "0.3.2",
      "views": {},
      "default_view": {},
      "provenance": [
        {
          "file_id": "https://github.com/vishnurmurthy/Myocardial_Ischemia_Detection/blob/master/machine_learning_model/Model_example.ipynb",
          "timestamp": 1533257974773
        }
      ],
      "collapsed_sections": []
    },
    "kernelspec": {
      "name": "python3",
      "display_name": "Python 3"
    },
    "accelerator": "GPU"
  },
  "cells": [
    {
      "metadata": {
        "id": "o9eZ8vda7K09",
        "colab_type": "code",
        "colab": {
          "autoexec": {
            "startup": false,
            "wait_interval": 0
          }
        }
      },
      "cell_type": "code",
      "source": [
        "import matplotlib.pyplot as plt\n",
        "import numpy as np\n",
        "import math\n",
        "import os\n",
        "import pandas as pd\n",
        "\n",
        "import random\n",
        "import tensorflow\n",
        "import keras\n",
        "from sklearn import metrics\n",
        "!pip install peakutils\n",
        "import peakutils\n",
        "from sklearn.utils import shuffle\n",
        "import tensorflow as tf\n",
        "from scipy.interpolate import *\n",
        "from scipy.signal import *"
      ],
      "execution_count": 0,
      "outputs": []
    },
    {
      "metadata": {
        "id": "jlL_MrGcG9lb",
        "colab_type": "code",
        "colab": {
          "autoexec": {
            "startup": false,
            "wait_interval": 0
          },
          "base_uri": "https://localhost:8080/",
          "height": 136
        },
        "outputId": "4bee4fff-74f5-44db-98ea-11ca78e9c3ed",
        "executionInfo": {
          "status": "ok",
          "timestamp": 1533263548850,
          "user_tz": 240,
          "elapsed": 28582,
          "user": {
            "displayName": "Vijay Ijju",
            "photoUrl": "https://lh3.googleusercontent.com/a/default-user=s128",
            "userId": "102468041072083574468"
          }
        }
      },
      "cell_type": "code",
      "source": [
        "! git clone https://github.com/vishnurmurthy/Myocardial_Ischemia_Detection"
      ],
      "execution_count": 0,
      "outputs": [
        {
          "output_type": "stream",
          "text": [
            "Cloning into 'Myocardial_Ischemia_Detection'...\n",
            "remote: Counting objects: 1021, done.\u001b[K\n",
            "remote: Compressing objects: 100% (32/32), done.\u001b[K\n",
            "remote: Total 1021 (delta 13), reused 13 (delta 3), pack-reused 984\u001b[K\n",
            "Receiving objects: 100% (1021/1021), 498.64 MiB | 30.37 MiB/s, done.\n",
            "Resolving deltas: 100% (122/122), done.\n",
            "Checking out files: 100% (591/591), done.\n"
          ],
          "name": "stdout"
        }
      ]
    },
    {
      "metadata": {
        "id": "YX1IulICI6zw",
        "colab_type": "code",
        "colab": {
          "autoexec": {
            "startup": false,
            "wait_interval": 0
          },
          "base_uri": "https://localhost:8080/",
          "height": 49
        },
        "outputId": "011f4060-c2a9-4eb0-a94c-70934f2a10fc",
        "executionInfo": {
          "status": "ok",
          "timestamp": 1533263549291,
          "user_tz": 240,
          "elapsed": 405,
          "user": {
            "displayName": "Vijay Ijju",
            "photoUrl": "https://lh3.googleusercontent.com/a/default-user=s128",
            "userId": "102468041072083574468"
          }
        }
      },
      "cell_type": "code",
      "source": [
        "large_data = pd.DataFrame({\"Signal\":[], \"Label\":[]})\n",
        "large_data"
      ],
      "execution_count": 0,
      "outputs": [
        {
          "output_type": "execute_result",
          "data": {
            "text/html": [
              "<div>\n",
              "<style scoped>\n",
              "    .dataframe tbody tr th:only-of-type {\n",
              "        vertical-align: middle;\n",
              "    }\n",
              "\n",
              "    .dataframe tbody tr th {\n",
              "        vertical-align: top;\n",
              "    }\n",
              "\n",
              "    .dataframe thead th {\n",
              "        text-align: right;\n",
              "    }\n",
              "</style>\n",
              "<table border=\"1\" class=\"dataframe\">\n",
              "  <thead>\n",
              "    <tr style=\"text-align: right;\">\n",
              "      <th></th>\n",
              "      <th>Label</th>\n",
              "      <th>Signal</th>\n",
              "    </tr>\n",
              "  </thead>\n",
              "  <tbody>\n",
              "  </tbody>\n",
              "</table>\n",
              "</div>"
            ],
            "text/plain": [
              "Empty DataFrame\n",
              "Columns: [Label, Signal]\n",
              "Index: []"
            ]
          },
          "metadata": {
            "tags": []
          },
          "execution_count": 7
        }
      ]
    },
    {
      "metadata": {
        "id": "261Y8qgBHc5l",
        "colab_type": "code",
        "colab": {
          "autoexec": {
            "startup": false,
            "wait_interval": 0
          },
          "base_uri": "https://localhost:8080/",
          "height": 1105
        },
        "outputId": "78d517b2-666a-4c83-92ee-c03d5cb2ebd4",
        "executionInfo": {
          "status": "ok",
          "timestamp": 1533263614825,
          "user_tz": 240,
          "elapsed": 28630,
          "user": {
            "displayName": "Vijay Ijju",
            "photoUrl": "https://lh3.googleusercontent.com/a/default-user=s128",
            "userId": "102468041072083574468"
          }
        }
      },
      "cell_type": "code",
      "source": [
        "\n",
        "datafiles = ['s20011.xz','s20131.xz','s20251.xz','s20341.xz','s20471.xz','s20591.xz','s30721.xz','s20021.xz','s20141.xz',\n",
        "'s20351.xz','s20481.xz','s20601.xz','s30731.xz','s20031.xz','s20151.xz','s20271.xz','s20361.xz','s20491.xz','s20621.xz',\n",
        "'s20272.xz','s20371.xz','s20501.xz','s20431.xz','s20551.xz','s20181.xz','s30661.xz','s20301.xz','s20231.xz','s20321.xz',\n",
        "'s20631.xz','s30741.xz','s20051.xz','s20171.xz','s20273.xz','s20381.xz','s20511.xz','s20641.xz','s30742.xz','s20061.xz',\n",
        "'s20274.xz','s20391.xz','s20521.xz','s20651.xz','s30751.xz','s20071.xz','s20191.xz','s20281.xz','s20401.xz','s20531.xz',\n",
        "'s30752.xz','s20081.xz','s20201.xz','s20291.xz','s20411.xz','s20541.xz','s30671.xz','s30761.xz','s20091.xz','s20211.xz',\n",
        "'s30681.xz','s30771.xz','s20101.xz','s20221.xz','s20311.xz','s20441.xz','s20561.xz','s30691.xz','s30781.xz','s20111.xz',\n",
        "'s20451.xz','s20571.xz','s30701.xz','s30791.xz','s20121.xz','s20241.xz','s20331.xz','s20461.xz','s20581.xz','s30711.xz', \n",
        "'s30732.xz','s20041.xz','s20161.xz','s30801.xz', 's20261.xz',]\n",
        "os.chdir('Myocardial_Ischemia_Detection/processed_data/')\n",
        "for i in datafiles:\n",
        "  dat = pd.read_pickle(i)\n",
        "  large_data = large_data.append(dat)\n",
        "os.chdir('../..')\n",
        "print(large_data)"
      ],
      "execution_count": 0,
      "outputs": [
        {
          "output_type": "stream",
          "text": [
            "        Label                                             Signal\n",
            "0        rtst  [-0.23499999999999996, 0.6729999999999999, 2.1...\n",
            "1        rtst  [0.305, 0.021000000000000005, -0.197, -0.28500...\n",
            "2        rtst  [-0.183, -0.2, -0.197, 0.04300000000000002, 1....\n",
            "3        rtst  [-0.291, -0.33199999999999996, -0.339999999999...\n",
            "4        rtst  [-0.037, -0.028999999999999998, -0.13, -0.2280...\n",
            "5        rtst  [-0.05, 1.275, 1.8809999999999998, 0.088999999...\n",
            "6        rtst  [-0.335, -0.31599999999999995, -0.302, -0.2879...\n",
            "7        rtst  [-0.198, -0.10800000000000001, -0.052000000000...\n",
            "8        rtst  [-0.151, -0.17099999999999999, -0.216000000000...\n",
            "9        rtst  [-0.135, -0.258, -0.3, -0.306, -0.311, -0.275,...\n",
            "10       rtst  [-0.20600000000000002, -0.207, -0.205, -0.198,...\n",
            "11       rtst  [0.242, -0.017, -0.183, -0.24299999999999997, ...\n",
            "12       rtst  [-0.045, -0.119, -0.2, -0.285, -0.268000000000...\n",
            "13       rtst  [-0.182, 1.013, 2.053, 0.20399999999999996, -0...\n",
            "14       rtst  [-0.17200000000000001, 0.828, 2.129, 0.3940000...\n",
            "15       rtst  [-0.367, -0.355, -0.329, -0.27, -0.205, -0.098...\n",
            "16       rtst  [-0.24700000000000003, -0.292, -0.303, -0.3019...\n",
            "17       rtst  [-0.21200000000000002, -0.21400000000000002, -...\n",
            "18       rtst  [-0.299, -0.313, -0.305, -0.298, -0.292, -0.28...\n",
            "19       rtst  [-0.10399999999999998, -0.05500000000000001, 0...\n",
            "20       rtst  [1.3989999999999998, 1.746, -0.086, -0.244, -0...\n",
            "21       rtst  [-0.1, 0.023000000000000003, 0.196, 0.339, 0.3...\n",
            "22       rtst  [-0.24500000000000002, -0.22999999999999998, -...\n",
            "23       rtst  [-0.219, -0.225, -0.22600000000000003, -0.221,...\n",
            "24       rtst  [-0.126, -0.21600000000000003, -0.248, -0.2279...\n",
            "25       rtst  [-0.01, 0.09, 0.242, 0.421, 0.55, 0.5289999999...\n",
            "26       rtst  [-0.254, -0.24500000000000002, -0.238999999999...\n",
            "27       rtst  [-0.21800000000000003, -0.21000000000000002, -...\n",
            "28       rtst  [-0.14300000000000002, -0.14900000000000002, 0...\n",
            "29       rtst  [-0.187, -0.275, -0.29100000000000004, -0.263,...\n",
            "...       ...                                                ...\n",
            "12374  normal  [-0.25, -0.269, -0.21400000000000002, -0.11299...\n",
            "12375  normal  [-0.10499999999999998, 0.151, 1.85799999999999...\n",
            "12376  normal  [-0.008, -0.004, -0.007000000000000001, -0.032...\n",
            "12377  normal  [1.64, 1.0939999999999999, -0.078, -0.10800000...\n",
            "12378  normal  [-0.07799999999999999, 0.066, 0.082, 0.066, 0....\n",
            "12379  normal  [-0.154, -0.168, -0.156, -0.20399999999999996,...\n",
            "12380  normal  [-0.10800000000000001, -0.11000000000000001, -...\n",
            "12381  normal  [-0.244, -0.27399999999999997, -0.311000000000...\n",
            "12382  normal  [-0.126, -0.10800000000000001, -0.041, -0.1070...\n",
            "12383  normal  [-0.025, -0.06, -0.11200000000000002, -0.10500...\n",
            "12384  normal  [-0.26, -0.297, -0.27399999999999997, -0.10700...\n",
            "12385  normal  [-0.016, 0.011, 0.023, 0.003999999999999999, -...\n",
            "12386  normal  [-0.002, -0.048, -0.101, -0.118, -0.1039999999...\n",
            "12387  normal  [0.992, -0.073, -0.13, -0.139, -0.156, -0.174,...\n",
            "12388  normal  [-0.205, -0.06300000000000001, 0.0090000000000...\n",
            "12389  normal  [0.04, 0.0009999999999999998, -0.031, -0.05699...\n",
            "12390  normal  [-0.054000000000000006, -0.073, -0.05499999999...\n",
            "12391  normal  [0.048, 0.013000000000000001, -0.03, -0.036000...\n",
            "12392  normal  [0.06000000000000001, 0.044, 0.043, 0.011, -0....\n",
            "12393  normal  [-0.033999999999999996, -0.06100000000000001, ...\n",
            "12394  normal  [-0.015000000000000003, -0.03900000000000001, ...\n",
            "12395  normal  [-0.20399999999999996, -0.087, 0.017, 0.05, 0....\n",
            "12396  normal  [0.28, 0.225, 0.23700000000000002, 0.219, 0.21...\n",
            "12397  normal  [-0.187, -0.25200000000000006, 0.278, 1.807, 0...\n",
            "12398  normal  [-0.08900000000000001, -0.023, 0.0260000000000...\n",
            "12399  normal  [0.10999999999999999, 0.10799999999999998, 0.0...\n",
            "12400  normal  [-0.215, -0.261, -0.315, -0.374, -0.382, -0.29...\n",
            "12401  normal  [0.015, -0.023, -0.05500000000000001, -0.07200...\n",
            "12402  normal  [-0.14200000000000002, -0.133, -0.142000000000...\n",
            "12403  normal  [-0.23600000000000004, -0.313, -0.349000000000...\n",
            "\n",
            "[677230 rows x 2 columns]\n"
          ],
          "name": "stdout"
        }
      ]
    },
    {
      "metadata": {
        "id": "-Wf5B6cIMxJd",
        "colab_type": "code",
        "colab": {
          "autoexec": {
            "startup": false,
            "wait_interval": 0
          },
          "base_uri": "https://localhost:8080/",
          "height": 204
        },
        "outputId": "10b587b0-9495-4335-964a-cf81e3b97056",
        "executionInfo": {
          "status": "ok",
          "timestamp": 1533263616237,
          "user_tz": 240,
          "elapsed": 1365,
          "user": {
            "displayName": "Vijay Ijju",
            "photoUrl": "https://lh3.googleusercontent.com/a/default-user=s128",
            "userId": "102468041072083574468"
          }
        }
      },
      "cell_type": "code",
      "source": [
        "print(\"# of data rows for ST: \", len(large_data.loc[large_data['Label'] == 'st']))\n",
        "print(\"# of data rows for RTST: \", len(large_data.loc[large_data['Label'] == 'rtst']))\n",
        "print(\"# of data rows for Normal: \", len(large_data.loc[large_data['Label'] == 'normal']))\n",
        "print(\"# of data rows for SCCST: \", len(large_data.loc[large_data['Label'] == 'sccst']))\n",
        "print(\"# of data rows for SST: \", len(large_data.loc[large_data['Label'] == 'sst']))\n",
        "\n",
        "print('\\n')\n",
        "large_data = large_data[large_data.Label != 'scct'] #dropping rows with shifts, we are not classifying\n",
        "large_data = large_data[large_data.Label != 'sst']\n",
        "\n",
        "large_data['Label'] = large_data['Label'].map({'st': 0, 'rtst': 1, 'normal': 2})\n",
        "\n",
        "print(\"# of data rows for ST: \", len(large_data.loc[large_data['Label'] == 0]))\n",
        "print(\"# of data rows for RTST: \", len(large_data.loc[large_data['Label'] == 1]))\n",
        "print(\"# of data rows for Normal: \", len(large_data.loc[large_data['Label'] == 2]))\n",
        "\n",
        "newx = 0\n",
        "for i in large_data['Signal']:\n",
        "\tif len(i)!= 250:\n",
        "\t\tprint(len(i))\n",
        "\t\tnewx+=1\n",
        "print(\"nx\", newx)"
      ],
      "execution_count": 0,
      "outputs": [
        {
          "output_type": "stream",
          "text": [
            "# of data rows for ST:  298287\n",
            "# of data rows for RTST:  86628\n",
            "# of data rows for Normal:  290985\n",
            "# of data rows for SCCST:  505\n",
            "# of data rows for SST:  746\n",
            "\n",
            "\n",
            "# of data rows for ST:  298287\n",
            "# of data rows for RTST:  86628\n",
            "# of data rows for Normal:  290985\n",
            "nx 0\n"
          ],
          "name": "stdout"
        }
      ]
    },
    {
      "metadata": {
        "id": "y0U3Z93AR_SB",
        "colab_type": "code",
        "colab": {
          "autoexec": {
            "startup": false,
            "wait_interval": 0
          },
          "base_uri": "https://localhost:8080/",
          "height": 1969
        },
        "outputId": "fbf451d5-518b-44a8-875c-f6231eacdbc8",
        "executionInfo": {
          "status": "ok",
          "timestamp": 1533263617172,
          "user_tz": 240,
          "elapsed": 914,
          "user": {
            "displayName": "Vijay Ijju",
            "photoUrl": "https://lh3.googleusercontent.com/a/default-user=s128",
            "userId": "102468041072083574468"
          }
        }
      },
      "cell_type": "code",
      "source": [
        "#convert to ints\n",
        "\n",
        "large_data['Label'] = large_data['Label'].astype('category').cat.codes\n",
        "\n",
        "#randomly shuffle dataframe\n",
        "\n",
        "large_data = large_data.sample(frac=1).reset_index(drop=True)\n",
        "\n",
        "large_data"
      ],
      "execution_count": 0,
      "outputs": [
        {
          "output_type": "execute_result",
          "data": {
            "text/html": [
              "<div>\n",
              "<style scoped>\n",
              "    .dataframe tbody tr th:only-of-type {\n",
              "        vertical-align: middle;\n",
              "    }\n",
              "\n",
              "    .dataframe tbody tr th {\n",
              "        vertical-align: top;\n",
              "    }\n",
              "\n",
              "    .dataframe thead th {\n",
              "        text-align: right;\n",
              "    }\n",
              "</style>\n",
              "<table border=\"1\" class=\"dataframe\">\n",
              "  <thead>\n",
              "    <tr style=\"text-align: right;\">\n",
              "      <th></th>\n",
              "      <th>Label</th>\n",
              "      <th>Signal</th>\n",
              "    </tr>\n",
              "  </thead>\n",
              "  <tbody>\n",
              "    <tr>\n",
              "      <th>0</th>\n",
              "      <td>0</td>\n",
              "      <td>[-0.197, -0.085, -0.046, -0.05, -0.04300000000...</td>\n",
              "    </tr>\n",
              "    <tr>\n",
              "      <th>1</th>\n",
              "      <td>2</td>\n",
              "      <td>[-0.02, 0.01, 0.02, 0.037, 0.05, 0.065, 0.087,...</td>\n",
              "    </tr>\n",
              "    <tr>\n",
              "      <th>2</th>\n",
              "      <td>1</td>\n",
              "      <td>[-0.27199999999999996, -0.199, -0.138999999999...</td>\n",
              "    </tr>\n",
              "    <tr>\n",
              "      <th>3</th>\n",
              "      <td>0</td>\n",
              "      <td>[0.15499999999999997, 0.354, 0.48, 0.385, 0.18...</td>\n",
              "    </tr>\n",
              "    <tr>\n",
              "      <th>4</th>\n",
              "      <td>2</td>\n",
              "      <td>[-0.072, -0.355, -0.231, -0.339, -0.328, -0.04...</td>\n",
              "    </tr>\n",
              "    <tr>\n",
              "      <th>5</th>\n",
              "      <td>2</td>\n",
              "      <td>[0.3, 0.364, 0.4069999999999999, 0.384, 0.272,...</td>\n",
              "    </tr>\n",
              "    <tr>\n",
              "      <th>6</th>\n",
              "      <td>2</td>\n",
              "      <td>[-0.06, -0.032, -0.014000000000000002, 0.01400...</td>\n",
              "    </tr>\n",
              "    <tr>\n",
              "      <th>7</th>\n",
              "      <td>2</td>\n",
              "      <td>[0.11299999999999999, 0.11299999999999999, 0.0...</td>\n",
              "    </tr>\n",
              "    <tr>\n",
              "      <th>8</th>\n",
              "      <td>2</td>\n",
              "      <td>[-0.05700000000000001, -0.10600000000000001, 0...</td>\n",
              "    </tr>\n",
              "    <tr>\n",
              "      <th>9</th>\n",
              "      <td>1</td>\n",
              "      <td>[-0.11200000000000002, -0.11499999999999999, -...</td>\n",
              "    </tr>\n",
              "    <tr>\n",
              "      <th>10</th>\n",
              "      <td>2</td>\n",
              "      <td>[0.004, 0.024, 0.035, 0.066, 0.037, 0.00900000...</td>\n",
              "    </tr>\n",
              "    <tr>\n",
              "      <th>11</th>\n",
              "      <td>0</td>\n",
              "      <td>[-0.209, -0.183, -0.225, -0.209, -0.2080000000...</td>\n",
              "    </tr>\n",
              "    <tr>\n",
              "      <th>12</th>\n",
              "      <td>2</td>\n",
              "      <td>[0.28300000000000003, 0.299, 0.187999999999999...</td>\n",
              "    </tr>\n",
              "    <tr>\n",
              "      <th>13</th>\n",
              "      <td>2</td>\n",
              "      <td>[0.021, 0.024, 0.018, 0.028999999999999998, 0....</td>\n",
              "    </tr>\n",
              "    <tr>\n",
              "      <th>14</th>\n",
              "      <td>0</td>\n",
              "      <td>[-0.347, -0.333, -0.22400000000000003, 0.38899...</td>\n",
              "    </tr>\n",
              "    <tr>\n",
              "      <th>15</th>\n",
              "      <td>0</td>\n",
              "      <td>[0.16799999999999998, 0.219, 0.257, 0.23900000...</td>\n",
              "    </tr>\n",
              "    <tr>\n",
              "      <th>16</th>\n",
              "      <td>0</td>\n",
              "      <td>[-0.133, -0.30300000000000005, -0.388, -0.4270...</td>\n",
              "    </tr>\n",
              "    <tr>\n",
              "      <th>17</th>\n",
              "      <td>2</td>\n",
              "      <td>[0.06, 0.057999999999999996, 0.056999999999999...</td>\n",
              "    </tr>\n",
              "    <tr>\n",
              "      <th>18</th>\n",
              "      <td>2</td>\n",
              "      <td>[-0.034, -0.046000000000000006, -0.05100000000...</td>\n",
              "    </tr>\n",
              "    <tr>\n",
              "      <th>19</th>\n",
              "      <td>2</td>\n",
              "      <td>[-0.024, -0.047, -0.07, -0.07800000000000001, ...</td>\n",
              "    </tr>\n",
              "    <tr>\n",
              "      <th>20</th>\n",
              "      <td>0</td>\n",
              "      <td>[-0.028999999999999998, 0.021, 0.0280000000000...</td>\n",
              "    </tr>\n",
              "    <tr>\n",
              "      <th>21</th>\n",
              "      <td>0</td>\n",
              "      <td>[0.05499999999999999, 0.04, 0.0329999999999999...</td>\n",
              "    </tr>\n",
              "    <tr>\n",
              "      <th>22</th>\n",
              "      <td>2</td>\n",
              "      <td>[-0.229, -0.225, -0.198, -0.184, -0.1709999999...</td>\n",
              "    </tr>\n",
              "    <tr>\n",
              "      <th>23</th>\n",
              "      <td>2</td>\n",
              "      <td>[-0.125, -0.101, -0.06200000000000001, 0.01100...</td>\n",
              "    </tr>\n",
              "    <tr>\n",
              "      <th>24</th>\n",
              "      <td>1</td>\n",
              "      <td>[-0.211, -0.219, -0.21200000000000002, -0.227,...</td>\n",
              "    </tr>\n",
              "    <tr>\n",
              "      <th>25</th>\n",
              "      <td>2</td>\n",
              "      <td>[-0.037, 0.266, -0.183, -0.38500000000000006, ...</td>\n",
              "    </tr>\n",
              "    <tr>\n",
              "      <th>26</th>\n",
              "      <td>0</td>\n",
              "      <td>[0.15100000000000002, 0.18400000000000002, 0.2...</td>\n",
              "    </tr>\n",
              "    <tr>\n",
              "      <th>27</th>\n",
              "      <td>2</td>\n",
              "      <td>[0.023000000000000003, 0.009, -0.004, -0.004, ...</td>\n",
              "    </tr>\n",
              "    <tr>\n",
              "      <th>28</th>\n",
              "      <td>0</td>\n",
              "      <td>[-0.27799999999999997, -0.335, -0.367, -0.4440...</td>\n",
              "    </tr>\n",
              "    <tr>\n",
              "      <th>29</th>\n",
              "      <td>2</td>\n",
              "      <td>[0.001, 0.022000000000000002, 0.043, 0.082, 0....</td>\n",
              "    </tr>\n",
              "    <tr>\n",
              "      <th>...</th>\n",
              "      <td>...</td>\n",
              "      <td>...</td>\n",
              "    </tr>\n",
              "    <tr>\n",
              "      <th>676454</th>\n",
              "      <td>1</td>\n",
              "      <td>[-0.209, -0.148, -0.152, -0.152, -0.135, -0.11...</td>\n",
              "    </tr>\n",
              "    <tr>\n",
              "      <th>676455</th>\n",
              "      <td>2</td>\n",
              "      <td>[0.125, 0.124, 0.08, 0.026999999999999996, 0.0...</td>\n",
              "    </tr>\n",
              "    <tr>\n",
              "      <th>676456</th>\n",
              "      <td>2</td>\n",
              "      <td>[0.08, -0.096, -0.127, -0.127, -0.135, -0.127,...</td>\n",
              "    </tr>\n",
              "    <tr>\n",
              "      <th>676457</th>\n",
              "      <td>0</td>\n",
              "      <td>[-0.068, -0.07100000000000001, -0.087, -0.1160...</td>\n",
              "    </tr>\n",
              "    <tr>\n",
              "      <th>676458</th>\n",
              "      <td>2</td>\n",
              "      <td>[-0.062, -0.124, -0.179, -0.17600000000000002,...</td>\n",
              "    </tr>\n",
              "    <tr>\n",
              "      <th>676459</th>\n",
              "      <td>0</td>\n",
              "      <td>[0.17700000000000002, 0.542, 1.081, 0.645, 0.2...</td>\n",
              "    </tr>\n",
              "    <tr>\n",
              "      <th>676460</th>\n",
              "      <td>0</td>\n",
              "      <td>[-0.11599999999999999, -0.119, -0.126, -0.135,...</td>\n",
              "    </tr>\n",
              "    <tr>\n",
              "      <th>676461</th>\n",
              "      <td>1</td>\n",
              "      <td>[-0.17600000000000002, -0.16, -0.0679999999999...</td>\n",
              "    </tr>\n",
              "    <tr>\n",
              "      <th>676462</th>\n",
              "      <td>0</td>\n",
              "      <td>[-0.01, -0.003, -0.005, 0.0, 0.009000000000000...</td>\n",
              "    </tr>\n",
              "    <tr>\n",
              "      <th>676463</th>\n",
              "      <td>2</td>\n",
              "      <td>[-0.0019999999999999996, 0.0, 0.002, -0.004, -...</td>\n",
              "    </tr>\n",
              "    <tr>\n",
              "      <th>676464</th>\n",
              "      <td>2</td>\n",
              "      <td>[0.5, 0.544, 0.4119999999999999, 0.251, 0.167,...</td>\n",
              "    </tr>\n",
              "    <tr>\n",
              "      <th>676465</th>\n",
              "      <td>2</td>\n",
              "      <td>[-0.033, 0.034999999999999996, 0.1530000000000...</td>\n",
              "    </tr>\n",
              "    <tr>\n",
              "      <th>676466</th>\n",
              "      <td>2</td>\n",
              "      <td>[0.12, 0.191, 0.223, 0.192, 0.1069999999999999...</td>\n",
              "    </tr>\n",
              "    <tr>\n",
              "      <th>676467</th>\n",
              "      <td>0</td>\n",
              "      <td>[-0.087, -0.11299999999999999, -0.124, -0.121,...</td>\n",
              "    </tr>\n",
              "    <tr>\n",
              "      <th>676468</th>\n",
              "      <td>2</td>\n",
              "      <td>[-0.028999999999999998, -0.016000000000000004,...</td>\n",
              "    </tr>\n",
              "    <tr>\n",
              "      <th>676469</th>\n",
              "      <td>2</td>\n",
              "      <td>[-0.008999999999999998, -0.032999999999999995,...</td>\n",
              "    </tr>\n",
              "    <tr>\n",
              "      <th>676470</th>\n",
              "      <td>0</td>\n",
              "      <td>[-0.029000000000000005, -0.044, -0.05600000000...</td>\n",
              "    </tr>\n",
              "    <tr>\n",
              "      <th>676471</th>\n",
              "      <td>0</td>\n",
              "      <td>[-0.017000000000000005, 1.0390000000000001, 1....</td>\n",
              "    </tr>\n",
              "    <tr>\n",
              "      <th>676472</th>\n",
              "      <td>0</td>\n",
              "      <td>[-0.133, -0.074, -0.003999999999999999, 0.075,...</td>\n",
              "    </tr>\n",
              "    <tr>\n",
              "      <th>676473</th>\n",
              "      <td>2</td>\n",
              "      <td>[0.10600000000000001, 0.124, 0.039999999999999...</td>\n",
              "    </tr>\n",
              "    <tr>\n",
              "      <th>676474</th>\n",
              "      <td>2</td>\n",
              "      <td>[0.17, 0.192, 0.219, 0.267, 0.331, 0.417, 0.50...</td>\n",
              "    </tr>\n",
              "    <tr>\n",
              "      <th>676475</th>\n",
              "      <td>2</td>\n",
              "      <td>[0.331, 0.26099999999999995, 0.079, -0.0100000...</td>\n",
              "    </tr>\n",
              "    <tr>\n",
              "      <th>676476</th>\n",
              "      <td>0</td>\n",
              "      <td>[0.142, 0.076, 0.013000000000000001, -0.017, -...</td>\n",
              "    </tr>\n",
              "    <tr>\n",
              "      <th>676477</th>\n",
              "      <td>2</td>\n",
              "      <td>[0.122, 0.124, 0.127, 0.125, 0.121, 0.11399999...</td>\n",
              "    </tr>\n",
              "    <tr>\n",
              "      <th>676478</th>\n",
              "      <td>1</td>\n",
              "      <td>[-0.06399999999999999, -0.152, -0.073, -0.0770...</td>\n",
              "    </tr>\n",
              "    <tr>\n",
              "      <th>676479</th>\n",
              "      <td>0</td>\n",
              "      <td>[0.05099999999999999, -0.258, -0.2719999999999...</td>\n",
              "    </tr>\n",
              "    <tr>\n",
              "      <th>676480</th>\n",
              "      <td>0</td>\n",
              "      <td>[-0.005, 0.015000000000000003, 0.1359999999999...</td>\n",
              "    </tr>\n",
              "    <tr>\n",
              "      <th>676481</th>\n",
              "      <td>2</td>\n",
              "      <td>[0.034999999999999996, 0.07500000000000001, 0....</td>\n",
              "    </tr>\n",
              "    <tr>\n",
              "      <th>676482</th>\n",
              "      <td>2</td>\n",
              "      <td>[-0.05299999999999999, -0.017, 0.0289999999999...</td>\n",
              "    </tr>\n",
              "    <tr>\n",
              "      <th>676483</th>\n",
              "      <td>0</td>\n",
              "      <td>[-0.11000000000000001, 0.089, 1.341, 0.196, -0...</td>\n",
              "    </tr>\n",
              "  </tbody>\n",
              "</table>\n",
              "<p>676484 rows × 2 columns</p>\n",
              "</div>"
            ],
            "text/plain": [
              "        Label                                             Signal\n",
              "0           0  [-0.197, -0.085, -0.046, -0.05, -0.04300000000...\n",
              "1           2  [-0.02, 0.01, 0.02, 0.037, 0.05, 0.065, 0.087,...\n",
              "2           1  [-0.27199999999999996, -0.199, -0.138999999999...\n",
              "3           0  [0.15499999999999997, 0.354, 0.48, 0.385, 0.18...\n",
              "4           2  [-0.072, -0.355, -0.231, -0.339, -0.328, -0.04...\n",
              "5           2  [0.3, 0.364, 0.4069999999999999, 0.384, 0.272,...\n",
              "6           2  [-0.06, -0.032, -0.014000000000000002, 0.01400...\n",
              "7           2  [0.11299999999999999, 0.11299999999999999, 0.0...\n",
              "8           2  [-0.05700000000000001, -0.10600000000000001, 0...\n",
              "9           1  [-0.11200000000000002, -0.11499999999999999, -...\n",
              "10          2  [0.004, 0.024, 0.035, 0.066, 0.037, 0.00900000...\n",
              "11          0  [-0.209, -0.183, -0.225, -0.209, -0.2080000000...\n",
              "12          2  [0.28300000000000003, 0.299, 0.187999999999999...\n",
              "13          2  [0.021, 0.024, 0.018, 0.028999999999999998, 0....\n",
              "14          0  [-0.347, -0.333, -0.22400000000000003, 0.38899...\n",
              "15          0  [0.16799999999999998, 0.219, 0.257, 0.23900000...\n",
              "16          0  [-0.133, -0.30300000000000005, -0.388, -0.4270...\n",
              "17          2  [0.06, 0.057999999999999996, 0.056999999999999...\n",
              "18          2  [-0.034, -0.046000000000000006, -0.05100000000...\n",
              "19          2  [-0.024, -0.047, -0.07, -0.07800000000000001, ...\n",
              "20          0  [-0.028999999999999998, 0.021, 0.0280000000000...\n",
              "21          0  [0.05499999999999999, 0.04, 0.0329999999999999...\n",
              "22          2  [-0.229, -0.225, -0.198, -0.184, -0.1709999999...\n",
              "23          2  [-0.125, -0.101, -0.06200000000000001, 0.01100...\n",
              "24          1  [-0.211, -0.219, -0.21200000000000002, -0.227,...\n",
              "25          2  [-0.037, 0.266, -0.183, -0.38500000000000006, ...\n",
              "26          0  [0.15100000000000002, 0.18400000000000002, 0.2...\n",
              "27          2  [0.023000000000000003, 0.009, -0.004, -0.004, ...\n",
              "28          0  [-0.27799999999999997, -0.335, -0.367, -0.4440...\n",
              "29          2  [0.001, 0.022000000000000002, 0.043, 0.082, 0....\n",
              "...       ...                                                ...\n",
              "676454      1  [-0.209, -0.148, -0.152, -0.152, -0.135, -0.11...\n",
              "676455      2  [0.125, 0.124, 0.08, 0.026999999999999996, 0.0...\n",
              "676456      2  [0.08, -0.096, -0.127, -0.127, -0.135, -0.127,...\n",
              "676457      0  [-0.068, -0.07100000000000001, -0.087, -0.1160...\n",
              "676458      2  [-0.062, -0.124, -0.179, -0.17600000000000002,...\n",
              "676459      0  [0.17700000000000002, 0.542, 1.081, 0.645, 0.2...\n",
              "676460      0  [-0.11599999999999999, -0.119, -0.126, -0.135,...\n",
              "676461      1  [-0.17600000000000002, -0.16, -0.0679999999999...\n",
              "676462      0  [-0.01, -0.003, -0.005, 0.0, 0.009000000000000...\n",
              "676463      2  [-0.0019999999999999996, 0.0, 0.002, -0.004, -...\n",
              "676464      2  [0.5, 0.544, 0.4119999999999999, 0.251, 0.167,...\n",
              "676465      2  [-0.033, 0.034999999999999996, 0.1530000000000...\n",
              "676466      2  [0.12, 0.191, 0.223, 0.192, 0.1069999999999999...\n",
              "676467      0  [-0.087, -0.11299999999999999, -0.124, -0.121,...\n",
              "676468      2  [-0.028999999999999998, -0.016000000000000004,...\n",
              "676469      2  [-0.008999999999999998, -0.032999999999999995,...\n",
              "676470      0  [-0.029000000000000005, -0.044, -0.05600000000...\n",
              "676471      0  [-0.017000000000000005, 1.0390000000000001, 1....\n",
              "676472      0  [-0.133, -0.074, -0.003999999999999999, 0.075,...\n",
              "676473      2  [0.10600000000000001, 0.124, 0.039999999999999...\n",
              "676474      2  [0.17, 0.192, 0.219, 0.267, 0.331, 0.417, 0.50...\n",
              "676475      2  [0.331, 0.26099999999999995, 0.079, -0.0100000...\n",
              "676476      0  [0.142, 0.076, 0.013000000000000001, -0.017, -...\n",
              "676477      2  [0.122, 0.124, 0.127, 0.125, 0.121, 0.11399999...\n",
              "676478      1  [-0.06399999999999999, -0.152, -0.073, -0.0770...\n",
              "676479      0  [0.05099999999999999, -0.258, -0.2719999999999...\n",
              "676480      0  [-0.005, 0.015000000000000003, 0.1359999999999...\n",
              "676481      2  [0.034999999999999996, 0.07500000000000001, 0....\n",
              "676482      2  [-0.05299999999999999, -0.017, 0.0289999999999...\n",
              "676483      0  [-0.11000000000000001, 0.089, 1.341, 0.196, -0...\n",
              "\n",
              "[676484 rows x 2 columns]"
            ]
          },
          "metadata": {
            "tags": []
          },
          "execution_count": 13
        }
      ]
    },
    {
      "metadata": {
        "id": "p14HqybrnSxY",
        "colab_type": "code",
        "colab": {
          "autoexec": {
            "startup": false,
            "wait_interval": 0
          },
          "base_uri": "https://localhost:8080/",
          "height": 364
        },
        "outputId": "4d1681be-b8bb-42e2-f24b-efed2f410666",
        "executionInfo": {
          "status": "ok",
          "timestamp": 1533263622990,
          "user_tz": 240,
          "elapsed": 468,
          "user": {
            "displayName": "Vijay Ijju",
            "photoUrl": "https://lh3.googleusercontent.com/a/default-user=s128",
            "userId": "102468041072083574468"
          }
        }
      },
      "cell_type": "code",
      "source": [
        "plt.plot(np.arange(0, 250), large_data['Signal'][0])"
      ],
      "execution_count": 0,
      "outputs": [
        {
          "output_type": "execute_result",
          "data": {
            "text/plain": [
              "[<matplotlib.lines.Line2D at 0x7fdefbe4b048>]"
            ]
          },
          "metadata": {
            "tags": []
          },
          "execution_count": 14
        },
        {
          "output_type": "display_data",
          "data": {
            "image/png": "[encoded data removed]",
            "text/plain": [
              "<matplotlib.figure.Figure at 0x7fdefbe4b630>"
            ]
          },
          "metadata": {
            "tags": []
          }
        }
      ]
    },
    {
      "metadata": {
        "id": "vJ6mqTbMpfR4",
        "colab_type": "code",
        "colab": {
          "autoexec": {
            "startup": false,
            "wait_interval": 0
          }
        }
      },
      "cell_type": "code",
      "source": [
        "'''\n",
        "# Run ONLY if you have a lot of GPU, takes a while. I tried and I couldn't get it to finish\n",
        "\n",
        "LEN = large_data.shape[0]\n",
        "\n",
        "import time\n",
        "\n",
        "for i in range(LEN):\n",
        "  start = time.time()\n",
        "  large_data['Signal'][i] = large_data['Signal'][i] / max(abs(large_data['Signal'][i]))\n",
        "  print(time.time() - start)\n",
        "'''"
      ],
      "execution_count": 0,
      "outputs": []
    },
    {
      "metadata": {
        "id": "KuD5mMwgT6EM",
        "colab_type": "code",
        "colab": {
          "autoexec": {
            "startup": false,
            "wait_interval": 0
          }
        }
      },
      "cell_type": "code",
      "source": [
        "y, X = large_data['Label'].values, large_data['Signal'].values\n",
        "\n",
        "print(y)\n",
        "print(X)"
      ],
      "execution_count": 0,
      "outputs": []
    },
    {
      "metadata": {
        "id": "CRCvihPqyRJc",
        "colab_type": "code",
        "colab": {
          "autoexec": {
            "startup": false,
            "wait_interval": 0
          }
        }
      },
      "cell_type": "code",
      "source": [
        "\n",
        "X_train, X_val, y_train, y_val = train_test_split(X, y, test_size = 0.2)"
      ],
      "execution_count": 0,
      "outputs": []
    },
    {
      "metadata": {
        "id": "6dE57KGuWeCZ",
        "colab_type": "code",
        "colab": {
          "autoexec": {
            "startup": false,
            "wait_interval": 0
          }
        }
      },
      "cell_type": "code",
      "source": [
        "y_train = tf.keras.utils.to_categorical(y_train[0], 3)\n",
        "y_train = y_train.astype(np.float32)\n",
        "y_val = tf.keras.utils.to_categorical(y_val[0], 3)\n",
        "y_val = y_val.astype(np.float32)"
      ],
      "execution_count": 0,
      "outputs": []
    },
    {
      "metadata": {
        "id": "63-EGTDEbt4o",
        "colab_type": "code",
        "colab": {
          "autoexec": {
            "startup": false,
            "wait_interval": 0
          }
        }
      },
      "cell_type": "code",
      "source": [
        "X_train = X_train.astype(np.float32)\n",
        "X_val = y_val.astype(np.float32)"
      ],
      "execution_count": 0,
      "outputs": []
    },
    {
      "metadata": {
        "id": "pBWuYIQ3bul9",
        "colab_type": "code",
        "colab": {
          "autoexec": {
            "startup": false,
            "wait_interval": 0
          }
        }
      },
      "cell_type": "code",
      "source": [
        "print(\"Training\")\n",
        "print(X_train.shape, y_train.shape, '\\n\\n', X_train, '\\n\\n', y_train)\n",
        "print(\"Validatoin\")\n",
        "print(X_val.shape, y_val.shape, '\\n\\n', X_val, '\\n\\n', y_val)"
      ],
      "execution_count": 0,
      "outputs": []
    },
    {
      "metadata": {
        "id": "WqwDEhvucW7M",
        "colab_type": "code",
        "colab": {
          "autoexec": {
            "startup": false,
            "wait_interval": 0
          }
        }
      },
      "cell_type": "code",
      "source": [
        "model = tf.keras.Sequential()\n",
        "model.add(tf.keras.layers.Dense(128, activation='relu', input_shape = (4000, 11)))\n",
        "model.add(tf.keras.layers.GaussianDropout(.25))\n",
        "model.add(tf.keras.layers.Dense(128, activation='relu'))\n",
        "model.add(tf.keras.layers.GaussianDropout(.25))\n",
        "model.add(tf.keras.layers.Dense(129, activation='relu'))\n",
        "model.add(tf.keras.layers.GaussianDropout(.25))\n",
        "model.add(tf.keras.layers.Dense(128, activation='relu'))\n",
        "model.add(tf.keras.layers.GaussianDropout(.25))\n",
        "model.add(tf.keras.layers.Dense(128, activation='relu'))\n",
        "model.add(tf.keras.layers.Dense(3, activation='softmax'))\n",
        "\n",
        "model.compile(loss='categorical_crossentropy', optimizer=tf.train.AdamOptimizer(learning_rate=0.001), metrics=['accuracy'])\n",
        "model.summary()"
      ],
      "execution_count": 0,
      "outputs": []
    },
    {
      "metadata": {
        "id": "7PB6kYg-x9ji",
        "colab_type": "code",
        "colab": {
          "autoexec": {
            "startup": false,
            "wait_interval": 0
          }
        }
      },
      "cell_type": "code",
      "source": [
        "model.fit(X_train, y_train, validation_data = (X_val, y_val), verbose = True, metrics = 'accuracy')"
      ],
      "execution_count": 0,
      "outputs": []
    }
  ]
}
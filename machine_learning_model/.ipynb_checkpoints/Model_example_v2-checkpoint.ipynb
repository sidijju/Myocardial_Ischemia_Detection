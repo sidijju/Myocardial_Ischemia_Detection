{
 "cells": [
  {
   "cell_type": "code",
   "execution_count": 1,
   "metadata": {
    "colab": {
     "autoexec": {
      "startup": false,
      "wait_interval": 0
     },
     "base_uri": "https://localhost:8080/",
     "height": 68
    },
    "colab_type": "code",
    "executionInfo": {
     "elapsed": 2719,
     "status": "ok",
     "timestamp": 1533323016770,
     "user": {
      "displayName": "",
      "photoUrl": "",
      "userId": ""
     },
     "user_tz": 240
    },
    "id": "o9eZ8vda7K09",
    "outputId": "747aad2f-348f-4e21-8a1a-db8d1abee32e"
   },
   "outputs": [
    {
     "name": "stderr",
     "output_type": "stream",
     "text": [
      "Using TensorFlow backend.\n"
     ]
    },
    {
     "name": "stdout",
     "output_type": "stream",
     "text": [
      "Requirement already satisfied: peakutils in /Users/vishnumurthy/anaconda3/lib/python3.6/site-packages (1.1.1)\r\n",
      "Requirement already satisfied: numpy in /Users/vishnumurthy/anaconda3/lib/python3.6/site-packages (from peakutils) (1.12.1)\r\n",
      "Requirement already satisfied: scipy in /Users/vishnumurthy/anaconda3/lib/python3.6/site-packages (from peakutils) (1.0.1)\r\n"
     ]
    }
   ],
   "source": [
    "import matplotlib.pyplot as plt\n",
    "import numpy as np\n",
    "import math\n",
    "import os\n",
    "import pandas as pd\n",
    "from sklearn.model_selection import train_test_split\n",
    "import random\n",
    "import tensorflow\n",
    "import keras\n",
    "from sklearn import metrics\n",
    "!pip install peakutils\n",
    "import peakutils\n",
    "from sklearn.utils import shuffle\n",
    "import tensorflow as tf\n",
    "from scipy.interpolate import *\n",
    "from scipy.signal import *\n",
    "#tf.eager_execution()"
   ]
  },
  {
   "cell_type": "code",
   "execution_count": null,
   "metadata": {
    "colab": {
     "autoexec": {
      "startup": false,
      "wait_interval": 0
     },
     "base_uri": "https://localhost:8080/",
     "height": 49
    },
    "colab_type": "code",
    "executionInfo": {
     "elapsed": 613,
     "status": "ok",
     "timestamp": 1533323031750,
     "user": {
      "displayName": "",
      "photoUrl": "",
      "userId": ""
     },
     "user_tz": 240
    },
    "id": "YX1IulICI6zw",
    "outputId": "df23e7d0-5caf-4f89-fcaf-7746139af3a5"
   },
   "outputs": [],
   "source": [
    "large_data = pd.DataFrame({\"Signal\":[], \"Label\":[]})\n",
    "large_data"
   ]
  },
  {
   "cell_type": "code",
   "execution_count": null,
   "metadata": {
    "colab": {
     "autoexec": {
      "startup": false,
      "wait_interval": 0
     },
     "base_uri": "https://localhost:8080/",
     "height": 1476
    },
    "colab_type": "code",
    "executionInfo": {
     "elapsed": 116099,
     "status": "error",
     "timestamp": 1533323158961,
     "user": {
      "displayName": "",
      "photoUrl": "",
      "userId": ""
     },
     "user_tz": 240
    },
    "id": "261Y8qgBHc5l",
    "outputId": "31b62542-a171-446b-f696-7571b0256e98"
   },
   "outputs": [],
   "source": [
    "datafiles = ['s20011.xz','s20131.xz','s20251.xz','s20341.xz','s20471.xz','s20591.xz','s30721.xz','s20021.xz','s20141.xz',\n",
    "'s20351.xz','s20481.xz','s20601.xz','s30731.xz','s20031.xz','s20151.xz','s20271.xz','s20361.xz','s20491.xz','s20621.xz',\n",
    "'s20272.xz','s20371.xz','s20501.xz','s20431.xz','s20551.xz','s20181.xz','s30661.xz','s20301.xz','s20231.xz','s20321.xz',\n",
    "'s20631.xz','s30741.xz','s20051.xz','s20171.xz','s20273.xz','s20381.xz','s20511.xz','s20641.xz','s30742.xz','s20061.xz',\n",
    "'s20274.xz','s20391.xz','s20521.xz','s20651.xz','s30751.xz','s20071.xz','s20191.xz','s20281.xz','s20401.xz','s20531.xz',\n",
    "'s30752.xz','s20081.xz','s20201.xz','s20291.xz','s20411.xz','s20541.xz','s30671.xz','s30761.xz','s20091.xz','s20211.xz',\n",
    "'s30681.xz','s30771.xz','s20101.xz','s20221.xz','s20311.xz','s20441.xz','s20561.xz','s30691.xz','s30781.xz','s20111.xz',\n",
    "'s20451.xz','s20571.xz','s30701.xz','s30791.xz','s20121.xz','s20241.xz','s20331.xz','s20461.xz','s20581.xz','s30711.xz', \n",
    "'s30732.xz','s20041.xz','s20161.xz','s30801.xz', 's20261.xz',]\n",
    "os.chdir('Myocardial_Ischemia_Detection/processed_data/')\n",
    "for i in datafiles:\n",
    "  dat = pd.read_pickle(i)\n",
    "  for count, signal in enumerate(dat['Signal']):\n",
    "    dat['Signal'][count] = dat['Signal'][count] / np.std(dat['Signal'][count])\n",
    "  large_data = large_data.append(dat)\n",
    "os.chdir('../..')\n",
    "print(large_data)"
   ]
  },
  {
   "cell_type": "code",
   "execution_count": null,
   "metadata": {
    "colab": {
     "autoexec": {
      "startup": false,
      "wait_interval": 0
     },
     "base_uri": "https://localhost:8080/",
     "height": 204
    },
    "colab_type": "code",
    "executionInfo": {
     "elapsed": 1787,
     "status": "ok",
     "timestamp": 1533321732189,
     "user": {
      "displayName": "",
      "photoUrl": "",
      "userId": ""
     },
     "user_tz": 240
    },
    "id": "-Wf5B6cIMxJd",
    "outputId": "c4df0714-ac08-4315-9b3d-f5edca2f60d4"
   },
   "outputs": [],
   "source": [
    "print(\"# of data rows for ST: \", len(large_data.loc[large_data['Label'] == 'st']))\n",
    "print(\"# of data rows for RTST: \", len(large_data.loc[large_data['Label'] == 'rtst']))\n",
    "print(\"# of data rows for Normal: \", len(large_data.loc[large_data['Label'] == 'normal']))\n",
    "print(\"# of data rows for SCCST: \", len(large_data.loc[large_data['Label'] == 'sccst']))\n",
    "print(\"# of data rows for SST: \", len(large_data.loc[large_data['Label'] == 'sst']))\n",
    "\n",
    "print('\\n')\n",
    "large_data = large_data[large_data.Label != 'scct'] #dropping rows with shifts, we are not classifying\n",
    "large_data = large_data[large_data.Label != 'sst']\n",
    "\n",
    "large_data['Label'] = large_data['Label'].map({'st': 0, 'rtst': 1, 'normal': 2})\n",
    "\n",
    "print(\"# of data rows for ST: \", len(large_data.loc[large_data['Label'] == 0]))\n",
    "print(\"# of data rows for RTST: \", len(large_data.loc[large_data['Label'] == 1]))\n",
    "print(\"# of data rows for Normal: \", len(large_data.loc[large_data['Label'] == 2]))\n",
    "\n",
    "newx = 0\n",
    "for i in large_data['Signal']:\n",
    "\tif len(i)!= 250:\n",
    "\t\tprint(len(i))\n",
    "\t\tnewx+=1\n",
    "print(\"nx\", newx)"
   ]
  },
  {
   "cell_type": "code",
   "execution_count": null,
   "metadata": {
    "colab": {
     "autoexec": {
      "startup": false,
      "wait_interval": 0
     },
     "base_uri": "https://localhost:8080/",
     "height": 1969
    },
    "colab_type": "code",
    "executionInfo": {
     "elapsed": 1213,
     "status": "ok",
     "timestamp": 1533321733594,
     "user": {
      "displayName": "",
      "photoUrl": "",
      "userId": ""
     },
     "user_tz": 240
    },
    "id": "y0U3Z93AR_SB",
    "outputId": "4acc095a-11b2-4db8-fcee-a971ce44398f"
   },
   "outputs": [],
   "source": [
    "#convert to ints\n",
    "\n",
    "#large_data['Label'] = np.array(large_data['Label']).astype('float64')\n",
    "\n",
    "#randomly shuffle dataframe\n",
    "\n",
    "large_data = large_data.sample(frac=1).reset_index(drop=True)\n",
    "\n",
    "large_data['Label'] = np.array(large_data['Label']).astype('float64')\n",
    "\n",
    "large_data"
   ]
  },
  {
   "cell_type": "code",
   "execution_count": null,
   "metadata": {
    "colab": {
     "autoexec": {
      "startup": false,
      "wait_interval": 0
     },
     "base_uri": "https://localhost:8080/",
     "height": 51
    },
    "colab_type": "code",
    "executionInfo": {
     "elapsed": 928,
     "status": "ok",
     "timestamp": 1533321735295,
     "user": {
      "displayName": "",
      "photoUrl": "",
      "userId": ""
     },
     "user_tz": 240
    },
    "id": "CRCvihPqyRJc",
    "outputId": "933712f6-8d95-48db-953c-db6ae4f123ad"
   },
   "outputs": [],
   "source": [
    "X, y = large_data['Signal'].values, large_data['Label'].values\n",
    "print(type(X), type(y))\n",
    "X_train, X_val, y_train, y_val = train_test_split(X, y, test_size = 0.2)\n",
    "\n",
    "print(X_train.shape, X_val.shape, y_train.shape, y_val.shape)"
   ]
  },
  {
   "cell_type": "code",
   "execution_count": null,
   "metadata": {
    "colab": {
     "autoexec": {
      "startup": false,
      "wait_interval": 0
     },
     "base_uri": "https://localhost:8080/",
     "height": 334
    },
    "colab_type": "code",
    "executionInfo": {
     "elapsed": 594,
     "status": "error",
     "timestamp": 1533321989792,
     "user": {
      "displayName": "",
      "photoUrl": "",
      "userId": ""
     },
     "user_tz": 240
    },
    "id": "6dE57KGuWeCZ",
    "outputId": "cbf46cd2-10bb-4366-e76c-a73a59f789fa"
   },
   "outputs": [],
   "source": [
    "y_train = tf.keras.utils.to_categorical(y_train, 3)\n",
    "y_train = y_train.astype(np.float32)\n",
    "y_val = tf.keras.utils.to_categorical(y_val)\n",
    "y_val = y_val.astype(np.float32)"
   ]
  },
  {
   "cell_type": "code",
   "execution_count": null,
   "metadata": {
    "colab": {
     "autoexec": {
      "startup": false,
      "wait_interval": 0
     },
     "base_uri": "https://localhost:8080/",
     "height": 181
    },
    "colab_type": "code",
    "executionInfo": {
     "elapsed": 873,
     "status": "error",
     "timestamp": 1533317497197,
     "user": {
      "displayName": "",
      "photoUrl": "",
      "userId": ""
     },
     "user_tz": 240
    },
    "id": "63-EGTDEbt4o",
    "outputId": "70a70dfd-a929-4b43-83be-f0d75f2b000f"
   },
   "outputs": [],
   "source": [
    "X_train = X_train.astype(np.float32)\n",
    "X_val = y_val.astype(np.float32)"
   ]
  },
  {
   "cell_type": "code",
   "execution_count": null,
   "metadata": {
    "colab": {
     "autoexec": {
      "startup": false,
      "wait_interval": 0
     }
    },
    "colab_type": "code",
    "collapsed": true,
    "id": "pBWuYIQ3bul9"
   },
   "outputs": [],
   "source": [
    "print(\"Training\")\n",
    "print(X_train.shape, y_train.shape, '\\n\\n', X_train, '\\n\\n', y_train)\n",
    "print(\"Validatoin\")\n",
    "print(X_val.shape, y_val.shape, '\\n\\n', X_val, '\\n\\n', y_val)"
   ]
  },
  {
   "cell_type": "code",
   "execution_count": null,
   "metadata": {
    "colab": {
     "autoexec": {
      "startup": false,
      "wait_interval": 0
     }
    },
    "colab_type": "code",
    "collapsed": true,
    "id": "WqwDEhvucW7M"
   },
   "outputs": [],
   "source": [
    "model = tf.keras.Sequential()\n",
    "model.add(tf.keras.layers.Dense(128, activation='relu', input_shape = (4000, 11)))\n",
    "model.add(tf.keras.layers.GaussianDropout(.25))\n",
    "model.add(tf.keras.layers.Dense(128, activation='relu'))\n",
    "model.add(tf.keras.layers.GaussianDropout(.25))\n",
    "model.add(tf.keras.layers.Dense(129, activation='relu'))\n",
    "model.add(tf.keras.layers.GaussianDropout(.25))\n",
    "model.add(tf.keras.layers.Dense(128, activation='relu'))\n",
    "model.add(tf.keras.layers.GaussianDropout(.25))\n",
    "model.add(tf.keras.layers.Dense(128, activation='relu'))\n",
    "model.add(tf.keras.layers.Dense(3, activation='softmax'))\n",
    "\n",
    "model.compile(loss='categorical_crossentropy', optimizer=tf.train.AdamOptimizer(learning_rate=0.001), metrics=['accuracy'])\n",
    "model.summary()"
   ]
  },
  {
   "cell_type": "code",
   "execution_count": null,
   "metadata": {
    "colab": {
     "autoexec": {
      "startup": false,
      "wait_interval": 0
     }
    },
    "colab_type": "code",
    "collapsed": true,
    "id": "7PB6kYg-x9ji"
   },
   "outputs": [],
   "source": [
    "model.fit(X_train, y_train, validation_data = (X_val, y_val), verbose = True, metrics = 'accuracy')"
   ]
  }
 ],
 "metadata": {
  "colab": {
   "collapsed_sections": [],
   "default_view": {},
   "name": "Model_example_v2.ipynb",
   "provenance": [],
   "version": "0.3.2",
   "views": {}
  },
  "kernelspec": {
   "display_name": "Python 3",
   "language": "python",
   "name": "python3"
  },
  "language_info": {
   "codemirror_mode": {
    "name": "ipython",
    "version": 3
   },
   "file_extension": ".py",
   "mimetype": "text/x-python",
   "name": "python",
   "nbconvert_exporter": "python",
   "pygments_lexer": "ipython3",
   "version": "3.6.3"
  }
 },
 "nbformat": 4,
 "nbformat_minor": 1
}

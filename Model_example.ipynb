{
  "nbformat": 4,
  "nbformat_minor": 0,
  "metadata": {
    "colab": {
      "name": "Model_example.ipynb",
      "version": "0.3.2",
      "provenance": [],
      "include_colab_link": true
    },
    "kernelspec": {
      "name": "python3",
      "display_name": "Python 3"
    }
  },
  "cells": [
    {
      "cell_type": "markdown",
      "metadata": {
        "id": "view-in-github",
        "colab_type": "text"
      },
      "source": [
        "[View in Colaboratory](https://colab.research.google.com/github/vishnurmurthy/Myocardial_Ischemia_Detection/blob/master/Model_example.ipynb)"
      ]
    },
    {
      "metadata": {
        "id": "o9eZ8vda7K09",
        "colab_type": "code",
        "colab": {
          "base_uri": "https://localhost:8080/",
          "height": 85
        },
        "outputId": "10b718c3-b7a0-485b-845e-ec644c71958b"
      },
      "cell_type": "code",
      "source": [
        "from google.colab import files\n",
        "import matplotlib.pyplot as plt\n",
        "import numpy as np\n",
        "import math\n",
        "import os\n",
        "import pandas as pd\n",
        "import random\n",
        "import tensorflow\n",
        "import keras\n",
        "from sklearn import metrics\n",
        "!pip install peakutils\n",
        "import peakutils\n",
        "from sklearn.utils import shuffle\n",
        "import tensorflow as tf\n",
        "from scipy.interpolate import *\n",
        "from scipy.signal import *"
      ],
      "execution_count": 1,
      "outputs": [
        {
          "output_type": "stream",
          "text": [
            "Using TensorFlow backend.\n"
          ],
          "name": "stderr"
        },
        {
          "output_type": "stream",
          "text": [
            "Requirement already satisfied: peakutils in /usr/local/lib/python3.6/dist-packages (1.1.1)\r\n",
            "Requirement already satisfied: numpy in /usr/local/lib/python3.6/dist-packages (from peakutils) (1.14.5)\n",
            "Requirement already satisfied: scipy in /usr/local/lib/python3.6/dist-packages (from peakutils) (0.19.1)\n"
          ],
          "name": "stdout"
        }
      ]
    },
    {
      "metadata": {
        "id": "jlL_MrGcG9lb",
        "colab_type": "code",
        "colab": {
          "base_uri": "https://localhost:8080/",
          "height": 34
        },
        "outputId": "f7240d0d-30f3-41a1-82df-e56e03c2a4ef"
      },
      "cell_type": "code",
      "source": [
        "! git clone https://github.com/vishnurmurthy/Myocardial_Ischemia_Detection"
      ],
      "execution_count": 2,
      "outputs": [
        {
          "output_type": "stream",
          "text": [
            "fatal: destination path 'Myocardial_Ischemia_Detection' already exists and is not an empty directory.\r\n"
          ],
          "name": "stdout"
        }
      ]
    },
    {
      "metadata": {
        "id": "YX1IulICI6zw",
        "colab_type": "code",
        "colab": {
          "base_uri": "https://localhost:8080/",
          "height": 49
        },
        "outputId": "567dd187-c086-479e-bebc-557e3efd5f33"
      },
      "cell_type": "code",
      "source": [
        "large_data = pd.DataFrame({\"Signal\":[], \"Label\":[]})\n",
        "large_data"
      ],
      "execution_count": 3,
      "outputs": [
        {
          "output_type": "execute_result",
          "data": {
            "text/html": [
              "<div>\n",
              "<style scoped>\n",
              "    .dataframe tbody tr th:only-of-type {\n",
              "        vertical-align: middle;\n",
              "    }\n",
              "\n",
              "    .dataframe tbody tr th {\n",
              "        vertical-align: top;\n",
              "    }\n",
              "\n",
              "    .dataframe thead th {\n",
              "        text-align: right;\n",
              "    }\n",
              "</style>\n",
              "<table border=\"1\" class=\"dataframe\">\n",
              "  <thead>\n",
              "    <tr style=\"text-align: right;\">\n",
              "      <th></th>\n",
              "      <th>Label</th>\n",
              "      <th>Signal</th>\n",
              "    </tr>\n",
              "  </thead>\n",
              "  <tbody>\n",
              "  </tbody>\n",
              "</table>\n",
              "</div>"
            ],
            "text/plain": [
              "Empty DataFrame\n",
              "Columns: [Label, Signal]\n",
              "Index: []"
            ]
          },
          "metadata": {
            "tags": []
          },
          "execution_count": 3
        }
      ]
    },
    {
      "metadata": {
        "id": "261Y8qgBHc5l",
        "colab_type": "code",
        "colab": {
          "base_uri": "https://localhost:8080/",
          "height": 221
        },
        "outputId": "0423268a-48a1-4553-ad2a-ac4c041f5226"
      },
      "cell_type": "code",
      "source": [
        "dataFiles = []\n",
        "os.chdir('Myocardial_Ischemia_Detection/processed_data/')\n",
        "!ls\n",
        "os.chdir('../..')"
      ],
      "execution_count": 7,
      "outputs": [
        {
          "output_type": "stream",
          "text": [
            "s20011.xz  s20131.xz  s20251.xz  s20341.xz  s20471.xz  s20591.xz  s30721.xz\r\n",
            "s20021.xz  s20141.xz  s20261.xz  s20351.xz  s20481.xz  s20601.xz  s30731.xz\r\n",
            "s20031.xz  s20151.xz  s20271.xz  s20361.xz  s20491.xz  s20621.xz  s30732.xz\r\n",
            "s20041.xz  s20161.xz  s20272.xz  s20371.xz  s20501.xz  s20631.xz  s30741.xz\r\n",
            "s20051.xz  s20171.xz  s20273.xz  s20381.xz  s20511.xz  s20641.xz  s30742.xz\r\n",
            "s20061.xz  s20181.xz  s20274.xz  s20391.xz  s20521.xz  s20651.xz  s30751.xz\r\n",
            "s20071.xz  s20191.xz  s20281.xz  s20401.xz  s20531.xz  s30661.xz  s30752.xz\r\n",
            "s20081.xz  s20201.xz  s20291.xz  s20411.xz  s20541.xz  s30671.xz  s30761.xz\r\n",
            "s20091.xz  s20211.xz  s20301.xz  s20431.xz  s20551.xz  s30681.xz  s30771.xz\r\n",
            "s20101.xz  s20221.xz  s20311.xz  s20441.xz  s20561.xz  s30691.xz  s30781.xz\r\n",
            "s20111.xz  s20231.xz  s20321.xz  s20451.xz  s20571.xz  s30701.xz  s30791.xz\r\n",
            "s20121.xz  s20241.xz  s20331.xz  s20461.xz  s20581.xz  s30711.xz  s30801.xz\r\n"
          ],
          "name": "stdout"
        }
      ]
    },
    {
      "metadata": {
        "id": "feF2qOXOLh_t",
        "colab_type": "code",
        "colab": {
          "base_uri": "https://localhost:8080/",
          "height": 54
        },
        "outputId": "545320ad-9e1a-44eb-cc3f-6c20ee97a0b1"
      },
      "cell_type": "code",
      "source": [
        "s = \"s20011.xz  s20131.xz  s20251.xz  s20341.xz  s20471.xz  s20591.xz  s30721.xz s20021.xz  s20141.xz  s20261.xz  s20351.xz  s20481.xz  s20601.xz  s30731.xz s20031.xz  s20151.xz  s20271.xz  s20361.xz  s20491.xz  s20621.xz  s30732.xz s20041.xz  s20161.xz  s20272.xz  s20371.xz  s20501.xz  s20631.xz  s30741.xz s20051.xz  s20171.xz  s20273.xz  s20381.xz  s20511.xz  s20641.xz  s30742.xz s20061.xz  s20181.xz  s20274.xz  s20391.xz  s20521.xz  s20651.xz  s30751.xz s20071.xz  s20191.xz  s20281.xz  s20401.xz  s20531.xz  s30661.xz  s30752.xz s20081.xz  s20201.xz  s20291.xz  s20411.xz  s20541.xz  s30671.xz  s30761.xz s20091.xz  s20211.xz  s20301.xz  s20431.xz  s20551.xz  s30681.xz  s30771.xz s20101.xz  s20221.xz  s20311.xz  s20441.xz  s20561.xz  s30691.xz  s30781.xz s20111.xz  s20231.xz  s20321.xz  s20451.xz  s20571.xz  s30701.xz  s30791.xz s20121.xz  s20241.xz  s20331.xz  s20461.xz  s20581.xz  s30711.xz  s30801.xz\"\n",
        "s"
      ],
      "execution_count": 8,
      "outputs": [
        {
          "output_type": "execute_result",
          "data": {
            "text/plain": [
              "'s20011.xz  s20131.xz  s20251.xz  s20341.xz  s20471.xz  s20591.xz  s30721.xz s20021.xz  s20141.xz  s20261.xz  s20351.xz  s20481.xz  s20601.xz  s30731.xz s20031.xz  s20151.xz  s20271.xz  s20361.xz  s20491.xz  s20621.xz  s30732.xz s20041.xz  s20161.xz  s20272.xz  s20371.xz  s20501.xz  s20631.xz  s30741.xz s20051.xz  s20171.xz  s20273.xz  s20381.xz  s20511.xz  s20641.xz  s30742.xz s20061.xz  s20181.xz  s20274.xz  s20391.xz  s20521.xz  s20651.xz  s30751.xz s20071.xz  s20191.xz  s20281.xz  s20401.xz  s20531.xz  s30661.xz  s30752.xz s20081.xz  s20201.xz  s20291.xz  s20411.xz  s20541.xz  s30671.xz  s30761.xz s20091.xz  s20211.xz  s20301.xz  s20431.xz  s20551.xz  s30681.xz  s30771.xz s20101.xz  s20221.xz  s20311.xz  s20441.xz  s20561.xz  s30691.xz  s30781.xz s20111.xz  s20231.xz  s20321.xz  s20451.xz  s20571.xz  s30701.xz  s30791.xz s20121.xz  s20241.xz  s20331.xz  s20461.xz  s20581.xz  s30711.xz  s30801.xz'"
            ]
          },
          "metadata": {
            "tags": []
          },
          "execution_count": 8
        }
      ]
    },
    {
      "metadata": {
        "id": "5nNjPS9fMBF4",
        "colab_type": "code",
        "colab": {}
      },
      "cell_type": "code",
      "source": [
        ""
      ],
      "execution_count": 0,
      "outputs": []
    }
  ]
}
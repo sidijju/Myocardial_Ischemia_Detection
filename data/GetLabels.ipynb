{
 "cells": [
  {
   "cell_type": "code",
   "execution_count": 96,
   "metadata": {},
   "outputs": [],
   "source": [
    "import wfdb\n",
    "import re\n",
    "import numpy as np\n",
    "import matplotlib.pyplot as plt\n",
    "import pandas as pd"
   ]
  },
  {
   "cell_type": "code",
   "execution_count": 97,
   "metadata": {},
   "outputs": [],
   "source": [
    "def get_labels(sample_name):\n",
    "    file1 = wfdb.rdann(sample_name, 'sta')\n",
    "    file2 = open(sample_name + '_1.sta', 'r')\n",
    "    sample_labels = np.array([])\n",
    "    temp_array = []\n",
    "    for i, line in enumerate(file2):\n",
    "        label = re.split('\\+|\\-', file1.aux_note[i])\n",
    "        values = np.array([int(line.split(' ')[0]), int(line.split(' ')[1])])\n",
    "        if len(label)==2:\n",
    "            if '0' in label[0] and not label[0][0].isupper():\n",
    "                if '(' in label[0]:\n",
    "                    temp_array.append(label[0][1:len(label[0])-1])\n",
    "                    temp_array.append(int(np.mean(values)))\n",
    "                elif ')' in label[1]:\n",
    "                    temp_array.append(int(np.mean(values)))\n",
    "                    if len(temp_array)==3:\n",
    "                        sample_labels = np.vstack((sample_labels, temp_array)) if len(sample_labels) else temp_array\n",
    "                    temp_array = []\n",
    "        elif len(label)==1:\n",
    "            if '0' in label[0] and not label[0][0].isupper():\n",
    "                temp_array.append(label[0][0:len(label[0])-1])\n",
    "                temp_array.append(int(line.split(' ')[0]))\n",
    "                temp_array.append(int(line.split(' ')[1]))\n",
    "                if len(temp_array)==3:\n",
    "                    sample_labels = np.vstack((sample_labels, temp_array)) if len(sample_labels) else temp_array\n",
    "                temp_array = []\n",
    "    \n",
    "    if sample_labels.size!=0:\n",
    "        if type(sample_labels) == list:\n",
    "            sample_labels = pd.DataFrame.transpose(pd.DataFrame(sample_labels))\n",
    "        else:\n",
    "            sample_labels = pd.DataFrame(sample_labels)\n",
    "        sample_labels[[1, 2]] = sample_labels[[1, 2]].apply(pd.to_numeric)\n",
    "        sample_labels.to_csv(sample_name + '.csv')"
   ]
  },
  {
   "cell_type": "code",
   "execution_count": 99,
   "metadata": {},
   "outputs": [],
   "source": [
    "sample_names = ['s20011', 's20021', 's20031', 's20041', 's20051', 's20061', 's20071', 's20081', 's20091', 's20101', 's20111', 's20121', 's20131', 's20141', 's20151', 's20161', 's20171', 's20181', 's20191', 's20201', 's20211', 's20221', 's20231', 's20241', 's20251', 's20261', 's20271', 's20272', 's20273', 's20274', 's20281', 's20291', 's20301', 's20311', 's20321', 's20331', 's20341', 's20351', 's20361', 's20371', 's20381', 's20391', 's20401', 's20411', 's20421', 's20431', 's20441', 's20451', 's20461', 's20471', 's20481', 's20491', 's20501', 's20511', 's20521', 's20531', 's20541', 's20551', 's20561', 's20571', 's20581', 's20591', 's20601', 's20611', 's20621', 's20631', 's20641', 's20651', 's30661', 's30671', 's30681', 's30691', 's30701', 's30711', 's30721', 's30731', 's30732', 's30741', 's30742', 's30751', 's30752', 's30761', 's30771', 's30781', 's30791', 's30801']\n",
    "for sample in sample_names:\n",
    "    get_labels(sample)"
   ]
  },
  {
   "cell_type": "code",
   "execution_count": null,
   "metadata": {},
   "outputs": [],
   "source": []
  }
 ],
 "metadata": {
  "kernelspec": {
   "display_name": "Python 3",
   "language": "python",
   "name": "python3"
  },
  "language_info": {
   "codemirror_mode": {
    "name": "ipython",
    "version": 3
   },
   "file_extension": ".py",
   "mimetype": "text/x-python",
   "name": "python",
   "nbconvert_exporter": "python",
   "pygments_lexer": "ipython3",
   "version": "3.6.5"
  }
 },
 "nbformat": 4,
 "nbformat_minor": 2
}
